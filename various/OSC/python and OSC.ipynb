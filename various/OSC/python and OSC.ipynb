{
 "cells": [
  {
   "cell_type": "code",
   "execution_count": null,
   "metadata": {},
   "outputs": [],
   "source": [
    "import random\n",
    "import time\n",
    "\n",
    "from pythonosc import osc_message_builder\n",
    "from pythonosc import udp_client"
   ]
  },
  {
   "cell_type": "code",
   "execution_count": null,
   "metadata": {},
   "outputs": [],
   "source": [
    "# OSC Client To Pd\n",
    "\n",
    "client = udp_client.SimpleUDPClient(\"localhost\", 5000)\n",
    "\n",
    "for x in range(10):\n",
    "    client.send_message(\"/filter\", random.random())\n",
    "    time.sleep(1)\n",
    "print(\"Done\")"
   ]
  },
  {
   "cell_type": "code",
   "execution_count": null,
   "metadata": {},
   "outputs": [],
   "source": [
    "# OSC client to TouchOSC (ipad)\n",
    "\n",
    "client = udp_client.SimpleUDPClient(\"192.168.1.136\", 9000)\n",
    "\n",
    "for x in range(10):\n",
    "    client.send_message(\"/1/fader1\", random.random())\n",
    "    time.sleep(1)\n",
    "print(\"Done\")"
   ]
  },
  {
   "cell_type": "code",
   "execution_count": null,
   "metadata": {
    "scrolled": false
   },
   "outputs": [],
   "source": [
    "# OSC server receives data from PD\n",
    "\n",
    "from pythonosc import dispatcher\n",
    "from pythonosc import osc_server\n",
    "\n",
    "def print_volume_handler(unused_addr, args, volume):\n",
    "    print(\"[{0}] ~ {1}\".format(args[0], volume))\n",
    "\n",
    "\n",
    "dispatcher = dispatcher.Dispatcher()\n",
    "dispatcher.map(\"/filter\", print)\n",
    "dispatcher.map(\"/volume\", print_volume_handler, \"Volume\")\n",
    "\n",
    "server = osc_server.ThreadingOSCUDPServer((\"localhost\", 5001), dispatcher)\n",
    "\n",
    "print(\"Serving on {}\".format(server.server_address))\n",
    "\n",
    "server.serve_forever()\n"
   ]
  },
  {
   "cell_type": "code",
   "execution_count": null,
   "metadata": {},
   "outputs": [],
   "source": []
  }
 ],
 "metadata": {
  "kernelspec": {
   "display_name": "Python 3",
   "language": "python",
   "name": "python3"
  },
  "language_info": {
   "codemirror_mode": {
    "name": "ipython",
    "version": 3
   },
   "file_extension": ".py",
   "mimetype": "text/x-python",
   "name": "python",
   "nbconvert_exporter": "python",
   "pygments_lexer": "ipython3",
   "version": "3.7.2"
  }
 },
 "nbformat": 4,
 "nbformat_minor": 2
}
